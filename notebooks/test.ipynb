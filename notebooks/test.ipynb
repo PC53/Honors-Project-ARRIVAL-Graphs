{
 "cells": [
  {
   "cell_type": "code",
   "execution_count": 2,
   "metadata": {},
   "outputs": [
    {
     "name": "stdout",
     "output_type": "stream",
     "text": [
      "importing Jupyter notebook from arrival_networkx.ipynb\n"
     ]
    }
   ],
   "source": [
    "import networkx as nx \n",
    "import random\n",
    "import matplotlib.pyplot as plt\n",
    "import numpy as np \n",
    "import math \n",
    "import copy \n",
    "import graphviz\n",
    "from scipy.optimize import fsolve\n",
    "from typing import List\n",
    "import sympy as sp\n",
    "from sympy import Symbol\n",
    "from collections import deque\n",
    "import pickle\n",
    "import import_ipynb\n",
    "from arrival_networkx import Arrival, branch_instance"
   ]
  },
  {
   "cell_type": "code",
   "execution_count": null,
   "metadata": {},
   "outputs": [],
   "source": [
    "def hard_instance3(size_of_instance:int , split_ratio:float = 0.0):\n",
    "    if split_ratio == 0.0:\n",
    "        split_ratio = random.random()\n",
    "    ## first branch is 0 to m and second branch is m to m+n   \n",
    "    m = int(split_ratio*size_of_instance) \n",
    "    n = size_of_instance \n",
    "    game = Arrival(n)\n",
    "    \n",
    "    for v in game.vertices:\n",
    "        if v == game.start_node:\n",
    "            r = random.random()\n",
    "            game.s_0[v] = 1 if r > 0.5 else m\n",
    "            game.s_1[v] = 1 if r <= 0.5 else m\n",
    "        elif v in [game.target_node, game.sink_node]:\n",
    "            game.s_0[v] = v\n",
    "            game.s_1[v] = v\n",
    "        elif v == m -1 :\n",
    "            r = random.random()\n",
    "            game.s_0[v] = 0 if r > 0.5 else -1\n",
    "            game.s_1[v] = 0 if r <= 0.5 else -1\n",
    "        else:\n",
    "            r = random.random()\n",
    "            game.s_0[v] = v+1 if r > 0.5 else 0\n",
    "            game.s_1[v] = v+1 if r <= 0.5 else 0\n",
    "        \n",
    "        \n",
    "    game.graph = game.get_network_graph()\n",
    "    \n",
    "    game.draw_graph(game.graph)\n",
    "    game.save_graph(f'./hard_{size_of_instance}_{split_ratio}.gpickle')\n",
    "    return game\n",
    "    \n",
    "    \n",
    "hard = hard_instance3(10,0.5)"
   ]
  },
  {
   "cell_type": "code",
   "execution_count": null,
   "metadata": {},
   "outputs": [],
   "source": []
  }
 ],
 "metadata": {
  "kernelspec": {
   "display_name": "tarski",
   "language": "python",
   "name": "python3"
  },
  "language_info": {
   "codemirror_mode": {
    "name": "ipython",
    "version": 3
   },
   "file_extension": ".py",
   "mimetype": "text/x-python",
   "name": "python",
   "nbconvert_exporter": "python",
   "pygments_lexer": "ipython3",
   "version": "3.10.13"
  }
 },
 "nbformat": 4,
 "nbformat_minor": 2
}
