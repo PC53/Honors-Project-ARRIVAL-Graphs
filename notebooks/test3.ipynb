{
 "cells": [
  {
   "cell_type": "code",
   "execution_count": 2,
   "metadata": {},
   "outputs": [
    {
     "name": "stdout",
     "output_type": "stream",
     "text": [
      "importing Jupyter notebook from arrival_networkx.ipynb\n",
      "importing Jupyter notebook from subexponential.ipynb\n",
      "importing Jupyter notebook from iteration.ipynb\n"
     ]
    }
   ],
   "source": [
    "import networkx as nx \n",
    "import random\n",
    "import matplotlib.pyplot as plt\n",
    "import numpy as np \n",
    "import math \n",
    "import copy \n",
    "import graphviz\n",
    "from scipy.optimize import fsolve\n",
    "from typing import List\n",
    "import sympy as sp\n",
    "from sympy import Symbol\n",
    "from collections import deque\n",
    "import pickle\n",
    "import import_ipynb\n",
    "from arrival_networkx import *\n",
    "from subexponential import *\n",
    "# from faster_algo import *\n",
    "from iteration import *\n",
    "import time"
   ]
  },
  {
   "cell_type": "code",
   "execution_count": null,
   "metadata": {},
   "outputs": [
    {
     "name": "stdout",
     "output_type": "stream",
     "text": [
      "{-1: 0, 0: 5, 1: 4, 2: 3, 3: 2, 4: 1, 5: 2, 6: 2, 7: 1, 8: 0}\n",
      "5\n",
      "S is  [2]\n",
      "{2: 4.0}\n",
      "t_d is  1.0 t_sink is  0 w is  {2: 1.0}\n",
      "[4]\n",
      "{-1: 0, 0: 4, 1: 7, 2: 5, 3: 6, 4: 3, 5: 2, 6: 1, 7: 1, 8: 0}\n",
      "7\n",
      "S is  [5, 2]\n",
      "{5: 8.0, 2: 10.0}\n",
      "t_d is  1.0 t_sink is  0 w is  {5: 7.0, 2: 10.0}\n",
      "[3]\n",
      "{10: {2: 4.0, 3: 3.0}}\n",
      "{-1: 0, 0: 5, 1: 5, 2: 2, 3: 3, 4: 3, 5: 6, 6: 4, 7: 5, 8: 4, 9: 3, 10: 4, 11: 5, 12: 4, 13: 1, 14: 2, 15: 2, 16: 2, 17: 1, 18: 0}\n",
      "6\n",
      "S is  [7, 1, 11, 0, 5]\n",
      "{7: 0, 1: 6.0, 11: 5.0, 0: 14.0, 5: 20.0}\n",
      "t_d is  1.0 t_sink is  0 w is  {7: 0, 1: 3.0, 11: 0.0, 0: 5.0, 5: 6.0}\n",
      "[33]\n",
      "{-1: 0, 0: 5, 1: 5, 2: 5, 3: 3, 4: 5, 5: 4, 6: 4, 7: 4, 8: 5, 9: 6, 10: 6, 11: 1, 12: 2, 13: 2, 14: 2, 15: 2, 16: 2, 17: 1, 18: 0}\n",
      "6\n",
      "S is  [3, 9, 10]\n",
      "{3: 16.0, 9: 3.0, 10: 10.0}\n",
      "t_d is  1.0 t_sink is  0 w is  {3: 9.0, 9: 3.0, 10: 3.0}\n",
      "[11]\n",
      "{10: {2: 4.0, 3: 3.0}, 20: {2: 33.0, 3: 11.0}}\n",
      "{-1: 0, 0: 3, 1: 8, 2: 2, 3: 7, 4: 7, 5: 9, 6: 4, 7: 6, 8: 5, 9: 7, 10: 8, 11: 6, 12: 3, 13: 7, 14: 6, 15: 1, 16: 1, 17: 1, 18: 1, 19: 1, 20: 1, 21: 1, 22: 1, 23: 1, 24: 1, 25: 1, 26: 1, 27: 1, 28: 0}\n",
      "9\n",
      "S is  [2, 1, 10]\n",
      "{2: 15.0, 1: 11.0, 10: 0}\n",
      "t_d is  0 t_sink is  1.0 w is  {2: 3.0, 1: 1.0, 10: 0}\n",
      "[11]\n"
     ]
    },
    {
     "ename": "KeyboardInterrupt",
     "evalue": "",
     "output_type": "error",
     "traceback": [
      "\u001b[1;31m---------------------------------------------------------------------------\u001b[0m\n",
      "\u001b[1;31mKeyboardInterrupt\u001b[0m                         Traceback (most recent call last)\n",
      "Cell \u001b[1;32mIn[38], line 11\u001b[0m\n",
      "\u001b[0;32m      9\u001b[0m \u001b[38;5;28;01mwhile\u001b[39;00m i \u001b[38;5;241m<\u001b[39m \u001b[38;5;241m1\u001b[39m:\n",
      "\u001b[0;32m     10\u001b[0m     instance \u001b[38;5;241m=\u001b[39m get_partially_connected_cluster_instance(num\u001b[38;5;241m-\u001b[39m\u001b[38;5;241m1\u001b[39m, k)\n",
      "\u001b[1;32m---> 11\u001b[0m     \u001b[38;5;28;01mif\u001b[39;00m \u001b[43mrun_procedure\u001b[49m\u001b[43m(\u001b[49m\u001b[43minstance\u001b[49m\u001b[43m)\u001b[49m:\n",
      "\u001b[0;32m     12\u001b[0m         sub_result \u001b[38;5;241m=\u001b[39m subexponential(instance, phi)\n",
      "\u001b[0;32m     13\u001b[0m         cluster_sub_counts\u001b[38;5;241m.\u001b[39mappend(sub_result[\u001b[38;5;241m-\u001b[39m\u001b[38;5;241m1\u001b[39m])\n",
      "\n",
      "Cell \u001b[1;32mIn[36], line 10\u001b[0m, in \u001b[0;36mrun_procedure\u001b[1;34m(instance)\u001b[0m\n",
      "\u001b[0;32m      5\u001b[0m counter \u001b[38;5;241m=\u001b[39m \u001b[38;5;241m0\u001b[39m\n",
      "\u001b[0;32m      6\u001b[0m \u001b[38;5;28;01mwhile\u001b[39;00m counter \u001b[38;5;241m<\u001b[39m instance\u001b[38;5;241m.\u001b[39mn \u001b[38;5;241m*\u001b[39m \u001b[38;5;241m2\u001b[39m\u001b[38;5;241m*\u001b[39m\u001b[38;5;241m*\u001b[39minstance\u001b[38;5;241m.\u001b[39mn:\n",
      "\u001b[0;32m      7\u001b[0m     \u001b[38;5;66;03m# if counter % 10**8 == 0:\u001b[39;00m\n",
      "\u001b[0;32m      8\u001b[0m     \u001b[38;5;66;03m# print(f'move {counter} :{v}')\u001b[39;00m\n",
      "\u001b[1;32m---> 10\u001b[0m     \u001b[38;5;28;01mif\u001b[39;00m \u001b[43mv\u001b[49m\u001b[43m \u001b[49m\u001b[38;5;241;43m==\u001b[39;49m\u001b[43m \u001b[49m\u001b[38;5;241;43m-\u001b[39;49m\u001b[38;5;241;43m1\u001b[39;49m:\n",
      "\u001b[0;32m     11\u001b[0m         \u001b[38;5;28;01mreturn\u001b[39;00m \u001b[38;5;28;01mTrue\u001b[39;00m\n",
      "\u001b[0;32m     12\u001b[0m     \u001b[38;5;28;01melif\u001b[39;00m v \u001b[38;5;241m==\u001b[39m instance\u001b[38;5;241m.\u001b[39mtarget_node:\n",
      "\n",
      "\u001b[1;31mKeyboardInterrupt\u001b[0m: "
     ]
    }
   ],
   "source": [
    "number_of_nodes = [ 10,20,30,40]\n",
    "avg_run_counts = {}\n",
    "for num in number_of_nodes:\n",
    "    run_counts = {}\n",
    "    phi = get_optimal_phi(num)\n",
    "    for k in range(2, 4):\n",
    "        cluster_sub_counts = []\n",
    "        i = 0\n",
    "        while i < 1:\n",
    "            instance = get_partially_connected_cluster_instance(num-1, k)\n",
    "            if run_procedure(instance):\n",
    "                sub_result = subexponential(instance, phi)\n",
    "                cluster_sub_counts.append(sub_result[-1])\n",
    "                i+=1\n",
    "        \n",
    "        print(cluster_sub_counts)\n",
    "        run_counts[k]  =  sum(cluster_sub_counts)/len(cluster_sub_counts)\n",
    "        \n",
    "    avg_run_counts[num] = run_counts\n",
    "    print(avg_run_counts)\n",
    "    "
   ]
  },
  {
   "cell_type": "code",
   "execution_count": null,
   "metadata": {},
   "outputs": [],
   "source": [
    "# Create the plot {10: {2: 4.0, 3: 3.0}, 20: {2: 33.0, 3: 11.0}}\n",
    "# Preparing data for plotting\n",
    "x = list(avg_run_counts.keys())\n",
    "y1 = [avg_run_counts[k][2] for k in x]\n",
    "y2 = [avg_run_counts[k][3] for k in x]\n",
    "\n",
    "# Plotting\n",
    "plt.figure(figsize=(10, 5))\n",
    "plt.plot(x, y1, label='k = 2', marker='o')\n",
    "plt.plot(x, y2, label='k = 3', marker='o')\n",
    "\n",
    "plt.xlabel('Number of Nodes in the Arrival graph')\n",
    "plt.ylabel('Average number of multi-run calls')\n",
    "plt.title('Subexponential algorithm on clustered instances')\n",
    "plt.legend()\n",
    "plt.grid(True)\n",
    "plt.show()"
   ]
  },
  {
   "cell_type": "markdown",
   "metadata": {},
   "source": [
    "test 2\n"
   ]
  },
  {
   "cell_type": "code",
   "execution_count": 5,
   "metadata": {},
   "outputs": [
    {
     "name": "stdout",
     "output_type": "stream",
     "text": [
      "{-1: 0, 0: 1, 1: 1, 8: 0, 6: 1, 2: 1, 3: 1, 4: 1, 5: 1, 7: 1}\n",
      "1\n",
      "S is  []\n",
      "{}\n",
      "t_d is  0 t_sink is  1.0 w is  {}\n",
      "{-1: 0, 0: 1, 8: 0, 4: 2, 1: 3, 6: 2, 2: 1, 3: 3, 7: 3, 5: 2}\n",
      "3\n",
      "S is  []\n",
      "{}\n",
      "t_d is  1.0 t_sink is  0 w is  {}\n",
      "{10: {2: 1.0, 3: 1.0}}\n",
      "{-1: 0, 0: 1, 1: 1, 2: 1, 3: 1, 4: 1, 5: 1, 6: 1, 7: 1, 8: 1, 9: 1, 10: 1, 11: 1, 12: 1, 13: 1, 14: 1, 15: 1, 16: 1, 17: 1, 18: 0}\n",
      "1\n",
      "S is  []\n",
      "{}\n",
      "t_d is  0 t_sink is  1.0 w is  {}\n",
      "{-1: 0, 0: 5, 11: 4, 2: 4, 1: 5, 13: 4, 7: 4, 15: 3, 3: 3, 17: 5, 16: 2, 4: 1, 18: 0, 5: 3, 8: 2, 6: 2, 9: 1, 10: 2, 12: 3, 14: 4}\n",
      "5\n",
      "S is  [1, 0, 17]\n",
      "{1: 5.0, 0: 1, 17: 14.0}\n",
      "t_d is  1.0 t_sink is  0 w is  {1: 1.0, 0: 1, 17: 1.0}\n",
      "{10: {2: 1.0, 3: 1.0}, 20: {2: 1.0, 3: 9.0}}\n",
      "{-1: 0, 0: 4, 24: 3, 12: 4, 1: 2, 13: 1, 2: 5, 4: 4, 3: 3, 6: 3, 19: 2, 8: 5, 5: 2, 16: 4, 27: 2, 7: 3, 26: 4, 9: 4, 10: 3, 11: 1, 28: 0, 14: 3, 15: 3, 17: 3, 18: 1, 23: 5, 20: 4, 21: 2, 22: 2, 25: 2}\n",
      "5\n",
      "S is  [2, 23, 8]\n",
      "{2: 9.0, 23: 4.0, 8: 2.0}\n",
      "t_d is  1.0 t_sink is  0 w is  {2: 1.0, 23: 0, 8: 0.0}\n",
      "{-1: 0, 0: 1, 1: 1, 2: 1, 3: 1, 4: 1, 5: 1, 6: 1, 7: 1, 8: 1, 9: 1, 10: 1, 11: 1, 12: 1, 13: 1, 14: 1, 15: 1, 16: 1, 17: 1, 18: 1, 19: 1, 20: 1, 21: 1, 22: 1, 23: 1, 24: 1, 25: 1, 26: 1, 27: 1, 28: 0}\n",
      "1\n",
      "S is  []\n",
      "{}\n",
      "t_d is  0 t_sink is  1.0 w is  {}\n",
      "{10: {2: 1.0, 3: 1.0}, 20: {2: 1.0, 3: 9.0}, 30: {2: 8.0, 3: 1.0}}\n",
      "{-1: 0, 0: 1, 35: 6, 38: 0, 1: 5, 7: 4, 25: 6, 2: 4, 18: 3, 17: 6, 3: 5, 27: 4, 11: 6, 4: 5, 22: 4, 10: 5, 5: 5, 13: 7, 6: 4, 31: 3, 28: 3, 8: 6, 21: 6, 9: 6, 12: 2, 20: 2, 14: 5, 19: 6, 15: 2, 16: 5, 29: 7, 26: 5, 23: 2, 24: 7, 37: 7, 30: 3, 32: 5, 33: 6, 34: 6, 36: 7}\n",
      "7\n",
      "S is  [29, 37, 36, 24, 13]\n",
      "{29: 27.0, 37: 5.0, 36: 5.0, 24: 0, 13: 1.0}\n",
      "t_d is  1.0 t_sink is  0 w is  {29: 2.0, 37: 1.0, 36: 0.0, 24: 0, 13: 0}\n",
      "{-1: 0, 0: 6, 30: 5, 26: 5, 1: 2, 15: 1, 2: 5, 36: 7, 23: 4, 3: 3, 29: 3, 4: 5, 20: 5, 5: 4, 34: 3, 12: 4, 6: 3, 25: 6, 7: 6, 31: 6, 8: 5, 33: 4, 9: 5, 10: 5, 22: 4, 16: 6, 37: 4, 11: 6, 13: 6, 14: 3, 32: 5, 38: 0, 18: 5, 17: 6, 19: 5, 21: 5, 28: 3, 24: 6, 35: 5, 27: 6}\n",
      "7\n",
      "S is  [36]\n",
      "{36: 1.0}\n",
      "t_d is  1.0 t_sink is  0 w is  {36: 0}\n",
      "{10: {2: 1.0, 3: 1.0}, 20: {2: 1.0, 3: 9.0}, 30: {2: 8.0, 3: 1.0}, 40: {2: 17.0, 3: 3.0}}\n"
     ]
    }
   ],
   "source": [
    "number_of_nodes = [ 10,20,30,40]\n",
    "avg_run_counts = {}\n",
    "for num in number_of_nodes:\n",
    "    run_counts = {}\n",
    "    phi = get_optimal_phi(num)\n",
    "    for k in range(2, 4):\n",
    "        cluster_sub_counts = []\n",
    "        \n",
    "        for i in range(1):\n",
    "            instance = Arrival(num-1 , True)\n",
    "            sub_result = subexponential(instance, phi)\n",
    "            cluster_sub_counts.append(sub_result[-1])\n",
    "       \n",
    "        run_counts[k]  =  sum(cluster_sub_counts)/len(cluster_sub_counts)\n",
    "        \n",
    "    avg_run_counts[num] = run_counts\n",
    "    print(avg_run_counts)"
   ]
  },
  {
   "cell_type": "code",
   "execution_count": 10,
   "metadata": {},
   "outputs": [
    {
     "name": "stderr",
     "output_type": "stream",
     "text": [
      "No artists with labels found to put in legend.  Note that artists whose label start with an underscore are ignored when legend() is called with no argument.\n"
     ]
    },
    {
     "data": {
      "image/png": "[encoded data removed]",
      "text/plain": [
       "<Figure size 640x480 with 1 Axes>"
      ]
     },
     "metadata": {},
     "output_type": "display_data"
    }
   ],
   "source": [
    "x = list(avg_run_counts.keys())\n",
    "y1 = [sum(avg_run_counts[k].values())/2  for k in x]\n",
    "\n",
    "# Plotting\n",
    "plt.plot(x, y1, marker='o')\n",
    "plt.xticks(x)\n",
    "plt.xlabel('Number of Nodes in the Arrival graph')\n",
    "plt.ylabel('Average number of Multi-Run calls')\n",
    "plt.title('Subexponential algorithm on Standard Arrival instances')\n",
    "plt.legend()\n",
    "plt.show()"
   ]
  }
 ],
 "metadata": {
  "kernelspec": {
   "display_name": "tarski",
   "language": "python",
   "name": "python3"
  },
  "language_info": {
   "codemirror_mode": {
    "name": "ipython",
    "version": 3
   },
   "file_extension": ".py",
   "mimetype": "text/x-python",
   "name": "python",
   "nbconvert_exporter": "python",
   "pygments_lexer": "ipython3",
   "version": "3.10.13"
  }
 },
 "nbformat": 4,
 "nbformat_minor": 2
}
