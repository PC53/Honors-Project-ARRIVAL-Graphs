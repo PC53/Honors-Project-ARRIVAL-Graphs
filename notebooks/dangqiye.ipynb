{
 "cells": [
  {
   "cell_type": "code",
   "execution_count": 1,
   "metadata": {},
   "outputs": [
    {
     "name": "stdout",
     "output_type": "stream",
     "text": [
      "importing Jupyter notebook from arrival_networkx.ipynb\n"
     ]
    }
   ],
   "source": [
    "import numpy as np\n",
    "import pandas as pd \n",
    "import random as rand\n",
    "import import_ipynb\n",
    "from arrival_networkx import *"
   ]
  },
  {
   "cell_type": "code",
   "execution_count": 2,
   "metadata": {},
   "outputs": [],
   "source": [
    "def binary_search(a, b, f):\n",
    "    if f(a) == a:\n",
    "        return [a]\n",
    "    elif f(b) == b:\n",
    "        return [b]\n",
    "    else:\n",
    "        mid = (a + b) // 2\n",
    "        if f(mid) < mid:\n",
    "            return binary_search(a, mid, f)\n",
    "        elif f(mid) > mid:\n",
    "            return binary_search(mid, b, f)\n",
    "        else:\n",
    "            return mid"
   ]
  },
  {
   "cell_type": "code",
   "execution_count": 3,
   "metadata": {},
   "outputs": [],
   "source": [
    "def fixed_point(a, b, f):   \n",
    "    d = len(a)\n",
    "    if d == 1:\n",
    "        return binary_search(a[0], b[0], lambda x: f([x])[0])\n",
    "    else:\n",
    "        mid = [(a[i] + b[i]) // 2 for i in range(d)]\n",
    "        x_star = fixed_point(a[:-1], b[:-1], lambda x: f(x + [mid[-1]])[:-1])\n",
    "        if f(x_star + [mid[-1]])[-1] > mid[-1]:\n",
    "            return fixed_point(x_star + [mid[-1]], b, f)\n",
    "        elif f(x_star + [mid[-1]])[-1] < mid[-1]:\n",
    "            return fixed_point(a, x_star + [mid[-1]], f)\n",
    "        else:\n",
    "            return x_star + [mid[-1]]\n"
   ]
  },
  {
   "cell_type": "code",
   "execution_count": 4,
   "metadata": {},
   "outputs": [],
   "source": [
    "def find_fixed_point(a, b, f):\n",
    "    assert len(a) == len(b)\n",
    "    return fixed_point(a, b, f)"
   ]
  },
  {
   "cell_type": "code",
   "execution_count": 5,
   "metadata": {},
   "outputs": [
    {
     "data": {
      "text/plain": [
       "[X-1, X0, X1, X2, X3, X4, X5, X6, X7, X8, X9]"
      ]
     },
     "execution_count": 5,
     "metadata": {},
     "output_type": "execute_result"
    }
   ],
   "source": [
    "instance = Arrival(10,True)\n",
    "\n",
    "a = len(instance.X)*[0]\n",
    "b = [2**len(instance.X) for i in range(len(instance.X))]"
   ]
  },
  {
   "cell_type": "code",
   "execution_count": 7,
   "metadata": {},
   "outputs": [
    {
     "ename": "",
     "evalue": "",
     "output_type": "error",
     "traceback": [
      "\u001b[1;31mThe Kernel crashed while executing code in the current cell or a previous cell. \n",
      "\u001b[1;31mPlease review the code in the cell(s) to identify a possible cause of the failure. \n",
      "\u001b[1;31mClick <a href='https://aka.ms/vscodeJupyterKernelCrash'>here</a> for more info. \n",
      "\u001b[1;31mView Jupyter <a href='command:jupyter.viewOutput'>log</a> for further details."
     ]
    }
   ],
   "source": [
    "find_fixed_point(a, b, instance.evaluate)"
   ]
  }
 ],
 "metadata": {
  "kernelspec": {
   "display_name": "tarski",
   "language": "python",
   "name": "python3"
  },
  "language_info": {
   "codemirror_mode": {
    "name": "ipython",
    "version": 3
   },
   "file_extension": ".py",
   "mimetype": "text/x-python",
   "name": "python",
   "nbconvert_exporter": "python",
   "pygments_lexer": "ipython3",
   "version": "3.10.13"
  }
 },
 "nbformat": 4,
 "nbformat_minor": 2
}
