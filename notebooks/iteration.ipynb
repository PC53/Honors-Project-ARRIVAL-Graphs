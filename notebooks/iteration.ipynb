{
 "cells": [
  {
   "cell_type": "code",
   "execution_count": 1,
   "metadata": {},
   "outputs": [
    {
     "name": "stdout",
     "output_type": "stream",
     "text": [
      "importing Jupyter notebook from arrival_networkx.ipynb\n"
     ]
    }
   ],
   "source": [
    "import numpy as np\n",
    "import math\n",
    "import import_ipynb\n",
    "from arrival_networkx import *"
   ]
  },
  {
   "cell_type": "code",
   "execution_count": 2,
   "metadata": {},
   "outputs": [],
   "source": [
    "\n",
    "def iteration(f, x0, verbose=False):\n",
    "    \"\"\"\n",
    "    Calculate the fixed point of the monotone function f using iteration.\n",
    "    # \"\"\"\n",
    "    max_iterations = len(x0)*2**len(x0)\n",
    "    x_old = x0.copy()\n",
    "\n",
    "    for i in range(max_iterations):\n",
    "        x_new = f(x_old)\n",
    "        \n",
    "        # x_new and x_old are equal then break\n",
    "        if np.all(x_new == x_old):\n",
    "            print(f\"Fixed point calculation converged in {i} iterations.\", x_new)\n",
    "            return x_new\n",
    "        \n",
    "        \n",
    "        x_old = x_new\n",
    "        if i % 10**4 == 0 and verbose:\n",
    "            print(f\"iteration {i} : {x_new}\")\n",
    "    \n",
    "    raise Exception(\"Fixed point calculation did not converge within the maximum iterations.\")"
   ]
  }
 ],
 "metadata": {
  "kernelspec": {
   "display_name": "tarski",
   "language": "python",
   "name": "python3"
  },
  "language_info": {
   "codemirror_mode": {
    "name": "ipython",
    "version": 3
   },
   "file_extension": ".py",
   "mimetype": "text/x-python",
   "name": "python",
   "nbconvert_exporter": "python",
   "pygments_lexer": "ipython3",
   "version": "3.10.13"
  }
 },
 "nbformat": 4,
 "nbformat_minor": 2
}
