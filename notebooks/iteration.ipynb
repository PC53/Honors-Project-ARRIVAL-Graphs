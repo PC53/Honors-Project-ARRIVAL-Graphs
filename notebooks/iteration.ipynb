{
 "cells": [
  {
   "cell_type": "code",
   "execution_count": null,
   "metadata": {},
   "outputs": [],
   "source": [
    "import numpy as np\n",
    "import math\n",
    "import import_ipynb\n",
    "from arrival_networkx import Arrival"
   ]
  },
  {
   "cell_type": "code",
   "execution_count": null,
   "metadata": {},
   "outputs": [],
   "source": [
    "def is_converged(x_new, x_old, tol=0):\n",
    "    \"\"\"\n",
    "    Component-wise check.\n",
    "    \"\"\"\n",
    "    return np.max(np.abs(x_new - x_old)) <= tol\n",
    "\n",
    "def iteration(f, x0, tol=0):\n",
    "    \"\"\"\n",
    "    Calculate the fixed point of the monotone function f using iteration.\n",
    "    # \"\"\"\n",
    "    max_iterations = 2**len(x0)\n",
    "    x_old = x0.copy()\n",
    "\n",
    "    for i in range(max_iterations):\n",
    "        x_new = f(x_old)\n",
    "        \n",
    "        if is_converged(x_new, x_old, tol):\n",
    "            print(f\"Converged after {i} iterations.\")\n",
    "            return x_new\n",
    "        \n",
    "        x_old = x_new\n",
    "        if i % 100 == 0:\n",
    "            print(f\"iteration {i} : {x_new}\")\n",
    "    \n",
    "    raise Exception(\"Fixed point calculation did not converge within the maximum iterations.\")"
   ]
  },
  {
   "cell_type": "code",
   "execution_count": null,
   "metadata": {},
   "outputs": [],
   "source": [
    "\n",
    "n = 20\n",
    "game = Arrival(n,True)\n",
    "# print(len(game.equations))\n",
    "x0 = np.zeros(game.n)\n",
    "# x0[1] = 1\n",
    "\n",
    "# Calculate the fixed point\n",
    "fixed_point = iteration(game.evaluate, x0)\n",
    "\n",
    "print(\"Fixed point:\", fixed_point)"
   ]
  },
  {
   "cell_type": "code",
   "execution_count": null,
   "metadata": {},
   "outputs": [],
   "source": [
    "game.run_procedure()"
   ]
  }
 ],
 "metadata": {
  "kernelspec": {
   "display_name": "tarski",
   "language": "python",
   "name": "python3"
  },
  "language_info": {
   "codemirror_mode": {
    "name": "ipython",
    "version": 3
   },
   "file_extension": ".py",
   "mimetype": "text/x-python",
   "name": "python",
   "nbconvert_exporter": "python",
   "pygments_lexer": "ipython3",
   "version": "3.10.13"
  }
 },
 "nbformat": 4,
 "nbformat_minor": 2
}
